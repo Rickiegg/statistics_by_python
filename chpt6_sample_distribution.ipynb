{
 "cells": [
  {
   "cell_type": "code",
   "execution_count": 117,
   "metadata": {},
   "outputs": [],
   "source": [
    "import numpy as np\n",
    "from scipy.stats import chi2\n",
    "import scipy.stats as stats\n",
    "from scipy.stats import ks_2samp\n",
    "from scipy.stats import norm\n",
    "from scipy.stats import kstest\n",
    "from scipy.stats import normaltest\n",
    "from scipy.stats import t\n",
    "from scipy.stats import ttest_ind\n",
    "import matplotlib.pyplot as plt\n",
    "import pandas as pd\n",
    "import seaborn as sns\n",
    "from statsmodels.formula.api import ols\n",
    "from statsmodels.stats.anova import anova_lm\n",
    "       "
   ]
  },
  {
   "cell_type": "code",
   "execution_count": 42,
   "metadata": {},
   "outputs": [
    {
     "name": "stdout",
     "output_type": "stream",
     "text": [
      "<class 'pandas.core.frame.DataFrame'>\n",
      "RangeIndex: 891 entries, 0 to 890\n",
      "Data columns (total 15 columns):\n",
      "survived       891 non-null int64\n",
      "pclass         891 non-null int64\n",
      "sex            891 non-null object\n",
      "age            714 non-null float64\n",
      "sibsp          891 non-null int64\n",
      "parch          891 non-null int64\n",
      "fare           891 non-null float64\n",
      "embarked       889 non-null object\n",
      "class          891 non-null object\n",
      "who            891 non-null object\n",
      "adult_male     891 non-null bool\n",
      "deck           203 non-null object\n",
      "embark_town    889 non-null object\n",
      "alive          891 non-null object\n",
      "alone          891 non-null bool\n",
      "dtypes: bool(2), float64(2), int64(4), object(7)\n",
      "memory usage: 92.3+ KB\n"
     ]
    }
   ],
   "source": [
    "data=pd.read_csv('/Users/rickie/Desktop/statistics_by_python/titanic.csv')\n",
    "data.info()\n",
    "df1=data[['embarked','age','fare']]"
   ]
  },
  {
   "cell_type": "code",
   "execution_count": 37,
   "metadata": {},
   "outputs": [],
   "source": [
    "df2=data[['embarked','age','fare']].groupby('embarked').agg(['count','min','max','median','mean','var','std'])\n",
    "df2=df2.applymap(lambda x:'%.2f'%x)\n",
    "# df2.apply(lambda x:round(x,2))"
   ]
  },
  {
   "cell_type": "code",
   "execution_count": 90,
   "metadata": {},
   "outputs": [
    {
     "data": {
      "text/html": [
       "<div>\n",
       "<style scoped>\n",
       "    .dataframe tbody tr th:only-of-type {\n",
       "        vertical-align: middle;\n",
       "    }\n",
       "\n",
       "    .dataframe tbody tr th {\n",
       "        vertical-align: top;\n",
       "    }\n",
       "\n",
       "    .dataframe thead th {\n",
       "        text-align: right;\n",
       "    }\n",
       "</style>\n",
       "<table border=\"1\" class=\"dataframe\">\n",
       "  <thead>\n",
       "    <tr style=\"text-align: right;\">\n",
       "      <th></th>\n",
       "      <th>count</th>\n",
       "      <th>min</th>\n",
       "      <th>max</th>\n",
       "      <th>median</th>\n",
       "      <th>mean</th>\n",
       "      <th>var</th>\n",
       "      <th>std</th>\n",
       "    </tr>\n",
       "    <tr>\n",
       "      <th>embarked</th>\n",
       "      <th></th>\n",
       "      <th></th>\n",
       "      <th></th>\n",
       "      <th></th>\n",
       "      <th></th>\n",
       "      <th></th>\n",
       "      <th></th>\n",
       "    </tr>\n",
       "  </thead>\n",
       "  <tbody>\n",
       "    <tr>\n",
       "      <th>C</th>\n",
       "      <td>168.00</td>\n",
       "      <td>4.01</td>\n",
       "      <td>512.33</td>\n",
       "      <td>29.70</td>\n",
       "      <td>59.95</td>\n",
       "      <td>7041.39</td>\n",
       "      <td>83.91</td>\n",
       "    </tr>\n",
       "    <tr>\n",
       "      <th>Q</th>\n",
       "      <td>77.00</td>\n",
       "      <td>6.75</td>\n",
       "      <td>90.00</td>\n",
       "      <td>7.75</td>\n",
       "      <td>13.28</td>\n",
       "      <td>201.30</td>\n",
       "      <td>14.19</td>\n",
       "    </tr>\n",
       "    <tr>\n",
       "      <th>S</th>\n",
       "      <td>644.00</td>\n",
       "      <td>0.00</td>\n",
       "      <td>263.00</td>\n",
       "      <td>13.00</td>\n",
       "      <td>27.08</td>\n",
       "      <td>1287.95</td>\n",
       "      <td>35.89</td>\n",
       "    </tr>\n",
       "  </tbody>\n",
       "</table>\n",
       "</div>"
      ],
      "text/plain": [
       "           count   min     max median   mean      var    std\n",
       "embarked                                                    \n",
       "C         168.00  4.01  512.33  29.70  59.95  7041.39  83.91\n",
       "Q          77.00  6.75   90.00   7.75  13.28   201.30  14.19\n",
       "S         644.00  0.00  263.00  13.00  27.08  1287.95  35.89"
      ]
     },
     "execution_count": 90,
     "metadata": {},
     "output_type": "execute_result"
    }
   ],
   "source": [
    "df2['fare']"
   ]
  },
  {
   "cell_type": "code",
   "execution_count": 141,
   "metadata": {},
   "outputs": [
    {
     "data": {
      "image/png": "[encoded data removed]",
      "text/plain": [
       "<Figure size 432x288 with 1 Axes>"
      ]
     },
     "metadata": {
      "needs_background": "light"
     },
     "output_type": "display_data"
    }
   ],
   "source": [
    "sns.distplot(df1.fare,bins=20)\n",
    "plt.title('Fare')\n",
    "plt.grid(True)"
   ]
  },
  {
   "cell_type": "markdown",
   "metadata": {},
   "source": [
    "#### 1.1 检验fare是否符合卡方分布"
   ]
  },
  {
   "cell_type": "code",
   "execution_count": 143,
   "metadata": {},
   "outputs": [
    {
     "data": {
      "text/plain": [
       "<matplotlib.legend.Legend at 0x1a231c3908>"
      ]
     },
     "execution_count": 143,
     "metadata": {},
     "output_type": "execute_result"
    },
    {
     "data": {
      "image/png": "[encoded data removed]",
      "text/plain": [
       "<Figure size 432x288 with 1 Axes>"
      ]
     },
     "metadata": {
      "needs_background": "light"
     },
     "output_type": "display_data"
    }
   ],
   "source": [
    "#进行卡方拟合\n",
    "sample_stat=chi2.fit(df1.fare)\n",
    "\n",
    "chi2_fit=chi2(sample_stat[0],sample_stat[1],sample_stat[2])\n",
    "x=np.linspace(chi2_fit.ppf(0.01),chi2_fit.ppf(0.99),100)\n",
    "x0=np.linspace(chi2.ppf(0.01,sample_stat[0]),chi2.ppf(0.99,sample_stat[0]),100)\n",
    "plt.plot(x,chi2_fit.pdf(x))\n",
    "df1.fare.plot(kind='kde',color='orange')\n",
    "plt.legend(['Chi2Distribution','Origin'])"
   ]
  },
  {
   "cell_type": "code",
   "execution_count": 144,
   "metadata": {},
   "outputs": [
    {
     "data": {
      "text/plain": [
       "Ks_2sampResult(statistic=0.2053872053872054, pvalue=6.073735619930226e-17)"
      ]
     },
     "execution_count": 144,
     "metadata": {},
     "output_type": "execute_result"
    }
   ],
   "source": [
    "#卡方分布检验\n",
    "x2=chi2.rvs(df=sample_stat[0],loc=sample_stat[1],scale=sample_stat[2],size=len(df1))# dof,loc,scale\n",
    "stats.ks_2samp(x2,df1.fare) #由于p<0.005,因此拒绝原假设，fare不符合卡方分布\n"
   ]
  },
  {
   "cell_type": "markdown",
   "metadata": {},
   "source": [
    "#### 1.2 检验是否符合正态分布"
   ]
  },
  {
   "cell_type": "code",
   "execution_count": 138,
   "metadata": {},
   "outputs": [
    {
     "data": {
      "text/plain": [
       "<matplotlib.legend.Legend at 0x1a227637f0>"
      ]
     },
     "execution_count": 138,
     "metadata": {},
     "output_type": "execute_result"
    },
    {
     "data": {
      "image/png": "[encoded data removed]",
      "text/plain": [
       "<Figure size 432x288 with 1 Axes>"
      ]
     },
     "metadata": {
      "needs_background": "light"
     },
     "output_type": "display_data"
    }
   ],
   "source": [
    "Norm=norm.fit(df1.fare)\n",
    "M_S=norm(Norm[0],Norm[1])\n",
    "x=np.linspace(M_S.ppf(0.01),M_S.ppf(0.99),100)\n",
    "plt.plot(x,M_S.pdf(x))\n",
    "df1.fare.plot(kind='kde',color='orange')\n",
    "plt.legend(['NormDistribution','Origin'])"
   ]
  },
  {
   "cell_type": "code",
   "execution_count": 145,
   "metadata": {},
   "outputs": [
    {
     "data": {
      "text/plain": [
       "KstestResult(statistic=0.9831349436254704, pvalue=0.0)"
      ]
     },
     "execution_count": 145,
     "metadata": {},
     "output_type": "execute_result"
    }
   ],
   "source": [
    "kstest(df1.fare,'norm')\n",
    "# normaltest(df1.fare,axis=0)"
   ]
  },
  {
   "cell_type": "markdown",
   "metadata": {},
   "source": [
    "#### 1.3检验是否符合t分布"
   ]
  },
  {
   "cell_type": "code",
   "execution_count": 135,
   "metadata": {},
   "outputs": [
    {
     "data": {
      "text/plain": [
       "<matplotlib.legend.Legend at 0x1a228cfa20>"
      ]
     },
     "execution_count": 135,
     "metadata": {},
     "output_type": "execute_result"
    },
    {
     "data": {
      "image/png": "[encoded data removed]",
      "text/plain": [
       "<Figure size 432x288 with 1 Axes>"
      ]
     },
     "metadata": {
      "needs_background": "light"
     },
     "output_type": "display_data"
    }
   ],
   "source": [
    "T_model=t.fit(df1.fare)\n",
    "M_S=t(T_model[0],T_model[1],T_model[2])\n",
    "x=np.linspace(M_S.ppf(0.01),M_S.ppf(0.99),100)\n",
    "\n",
    "plt.plot(x,M_S.pdf(x))\n",
    "df1.fare.plot(kind='kde',color='orange')\n",
    "plt.legend([ 'TDistribution','Origin'])"
   ]
  },
  {
   "cell_type": "markdown",
   "metadata": {},
   "source": [
    "##### ks_2samp:This is a two-sided test for the null hypothesis that 2 independent samples are drawn from the same continuous distribution."
   ]
  },
  {
   "cell_type": "code",
   "execution_count": 137,
   "metadata": {},
   "outputs": [
    {
     "data": {
      "text/plain": [
       "Ks_2sampResult(statistic=0.31537598204264866, pvalue=2.2676716105898464e-39)"
      ]
     },
     "execution_count": 137,
     "metadata": {},
     "output_type": "execute_result"
    }
   ],
   "source": [
    "x2=t.rvs(df=T_model[0],loc=T_model[1],scale=T_model[2],size=len(df1.fare))# dof,loc,scale\n",
    "stats.ks_2samp(df1.fare, x2)  "
   ]
  },
  {
   "cell_type": "code",
   "execution_count": 147,
   "metadata": {},
   "outputs": [
    {
     "data": {
      "text/plain": [
       "S    644\n",
       "C    168\n",
       "Q     77\n",
       "Name: embarked, dtype: int64"
      ]
     },
     "execution_count": 147,
     "metadata": {},
     "output_type": "execute_result"
    }
   ],
   "source": [
    "df1.embarked.value_counts()"
   ]
  },
  {
   "cell_type": "code",
   "execution_count": 165,
   "metadata": {},
   "outputs": [
    {
     "name": "stdout",
     "output_type": "stream",
     "text": [
      "count    644.000000\n",
      "mean      27.079812\n",
      "std       35.887993\n",
      "min        0.000000\n",
      "25%        8.050000\n",
      "50%       13.000000\n",
      "75%       27.900000\n",
      "max      263.000000\n",
      "Name: fare, dtype: float64 count    168.000000\n",
      "mean      59.954144\n",
      "std       83.912994\n",
      "min        4.012500\n",
      "25%       13.697950\n",
      "50%       29.700000\n",
      "75%       78.500025\n",
      "max      512.329200\n",
      "Name: fare, dtype: float64 count    77.000000\n",
      "mean     13.276030\n",
      "std      14.188047\n",
      "min       6.750000\n",
      "25%       7.750000\n",
      "50%       7.750000\n",
      "75%      15.500000\n",
      "max      90.000000\n",
      "Name: fare, dtype: float64\n"
     ]
    }
   ],
   "source": [
    "S_fare=df1[df1['embarked']=='S'].fare\n",
    "C_fare=df1[df1['embarked']=='C'].fare\n",
    "Q_fare=df1[df1['embarked']=='Q'].fare\n",
    "print(S_fare.describe(),C_fare.describe(),Q_fare.describe())"
   ]
  },
  {
   "cell_type": "code",
   "execution_count": 172,
   "metadata": {},
   "outputs": [],
   "source": [
    "miu=S_fare.mean()-C_fare.mean()\n",
    "sigma=np.sqrt(S_fare.var()/len(S_fare)+C_fare.var()/len(C_fare))"
   ]
  },
  {
   "cell_type": "code",
   "execution_count": 177,
   "metadata": {},
   "outputs": [
    {
     "data": {
      "image/png": "[encoded data removed]",
      "text/plain": [
       "<Figure size 432x288 with 1 Axes>"
      ]
     },
     "metadata": {
      "needs_background": "light"
     },
     "output_type": "display_data"
    }
   ],
   "source": [
    "x=np.arange(-150,50)\n",
    "Norm_d=norm(miu,sigma)\n",
    "plt.plot(x,Norm_d.pdf(x))\n",
    "plt.xlabel(\"S_Fare - C_Fare\")\n",
    "plt.ylabel(\"Density\")\n",
    "plt.title('Fare difference between S and C')\n",
    "plt.show()"
   ]
  },
  {
   "cell_type": "code",
   "execution_count": 183,
   "metadata": {},
   "outputs": [
    {
     "data": {
      "text/plain": [
       "KstestResult(statistic=0.9767077878825896, pvalue=0.0)"
      ]
     },
     "execution_count": 183,
     "metadata": {},
     "output_type": "execute_result"
    }
   ],
   "source": [
    "kstest(S_fare,'norm')\n",
    "# S_fare.plot(kind='kde')\n"
   ]
  },
  {
   "cell_type": "code",
   "execution_count": null,
   "metadata": {},
   "outputs": [],
   "source": []
  }
 ],
 "metadata": {
  "kernelspec": {
   "display_name": "Python 3",
   "language": "python",
   "name": "python3"
  },
  "language_info": {
   "codemirror_mode": {
    "name": "ipython",
    "version": 3
   },
   "file_extension": ".py",
   "mimetype": "text/x-python",
   "name": "python",
   "nbconvert_exporter": "python",
   "pygments_lexer": "ipython3",
   "version": "3.7.3"
  }
 },
 "nbformat": 4,
 "nbformat_minor": 2
}
